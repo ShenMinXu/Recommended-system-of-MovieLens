{
 "cells": [
  {
   "cell_type": "markdown",
   "metadata": {},
   "source": [
    "# <center>利用snap构建基于随机游走的推荐系统</center >  \n",
    "Snap是基于Python的一个复杂网络的开源工具包,本片参考论文 Pixie: A System for Recommending 3+ Billion Items to 200+ Million Users in Real-Time,本篇使用Snap并结合Movielens数据集构建电影推荐系统.\n",
    "\n",
    "\n"
   ]
  },
  {
   "cell_type": "markdown",
   "metadata": {},
   "source": [
    "# Python2.7"
   ]
  },
  {
   "cell_type": "markdown",
   "metadata": {},
   "source": [
    "# 目录  \n",
    "\n",
    "[snap文档](#0)  \n",
    "[数据集介绍](#1)  \n",
    "[导入数据](#2)  \n",
    "[建立二分图](#3)  \n",
    "[使用随机游走进行推荐](#4)  \n",
    "[随机游走参数分析](#5)  \n",
    "[加权网络推荐](#6)"
   ]
  },
  {
   "cell_type": "markdown",
   "metadata": {},
   "source": [
    "<a id='0'></a>\n",
    "# <div> snap 文档</div>\n",
    "<div>[learn SNAP (http://snap.stanford.edu/)](http://snap.stanford.edu/)  </div>\n",
    "<div>[Install instruction (http://snap.stanford.edu/proj/snap-www/SNAP-WWW15-part2.pdf)](http://snap.stanford.edu/proj/snap-www/SNAP-WWW15-part2.pdf)  </div>\n",
    "<div>[Reading (mandatory): http://snap.stanford.edu/proj/snap-www/SNAP-WWW15-part2.pdf](http://snap.stanford.edu/proj/snap-www/SNAP-WWW15-part2.pdf) </div>\n",
    "<div>[详细文档 (http://snap.stanford.edu/snap/doc/snapuser-ref/classes.html)](http://snap.stanford.edu/snap/doc/snapuser-ref/classes.html)  </div>"
   ]
  },
  {
   "cell_type": "markdown",
   "metadata": {},
   "source": [
    "<a id='1'></a>\n",
    "# 数据集介绍\n",
    "Movielens数据集(https://grouplens.org/datasets/movielens/) 涵盖了用户对不同电影的评价,以及各电影的标签,IMDB ID等.  \n",
    "本次实验主要使用数据集中的ratings表,表如下:  \n",
    "userId:用户id  \n",
    "movieId:电影id  \n",
    "ratings:用户评级  \n",
    "timestamp:用户评级时间戳  \n"
   ]
  },
  {
   "cell_type": "code",
   "execution_count": 28,
   "metadata": {},
   "outputs": [],
   "source": [
    "# 加载数据分析常用库\n",
    "import pandas as pd\n",
    "import numpy as np\n",
    "import re\n",
    "import matplotlib.pyplot as plt\n",
    "import json\n",
    "import snap\n",
    "from IPython.display import Image\n",
    "import matplotlib.image as mpimg\n",
    "from IPython.display import display\n",
    "import time\n",
    "import random\n",
    "import math\n",
    "%matplotlib inline\n",
    "\n",
    "#关闭警告信息\n",
    "import warnings\n",
    "warnings.filterwarnings('ignore')\n",
    "\n",
    "##设置最大显示的行数和列数\n",
    "pd.set_option('display.max_columns',10)\n",
    "pd.set_option('display.max_rows',10)"
   ]
  },
  {
   "cell_type": "markdown",
   "metadata": {},
   "source": [
    "<a id='2'></a>\n",
    "# 导入数据"
   ]
  },
  {
   "cell_type": "code",
   "execution_count": 29,
   "metadata": {},
   "outputs": [],
   "source": [
    "#读取数据\n",
    "\n",
    "df_ratings = pd.read_csv('C:\\Users\\smxbe\\DataMining\\Movielen\\ml-latest-small/ratings.csv')\n"
   ]
  },
  {
   "cell_type": "code",
   "execution_count": 30,
   "metadata": {},
   "outputs": [
    {
     "name": "stdout",
     "output_type": "stream",
     "text": [
      "671 users\n",
      "9066 movies\n"
     ]
    }
   ],
   "source": [
    "\n",
    "n_users = df_ratings.userId.unique().shape[0]\n",
    "n_items = df_ratings.movieId.unique().shape[0]\n",
    "print(str(n_users) + ' users')\n",
    "print(str(n_items) + ' movies')"
   ]
  },
  {
   "cell_type": "markdown",
   "metadata": {},
   "source": [
    "# 对movieId做映射"
   ]
  },
  {
   "cell_type": "code",
   "execution_count": 31,
   "metadata": {},
   "outputs": [
    {
     "name": "stdout",
     "output_type": "stream",
     "text": [
      "(100004, 5)\n"
     ]
    },
    {
     "data": {
      "text/html": [
       "<div>\n",
       "<style scoped>\n",
       "    .dataframe tbody tr th:only-of-type {\n",
       "        vertical-align: middle;\n",
       "    }\n",
       "\n",
       "    .dataframe tbody tr th {\n",
       "        vertical-align: top;\n",
       "    }\n",
       "\n",
       "    .dataframe thead th {\n",
       "        text-align: right;\n",
       "    }\n",
       "</style>\n",
       "<table border=\"1\" class=\"dataframe\">\n",
       "  <thead>\n",
       "    <tr style=\"text-align: right;\">\n",
       "      <th></th>\n",
       "      <th>userId</th>\n",
       "      <th>movieId</th>\n",
       "      <th>rating</th>\n",
       "      <th>timestamp</th>\n",
       "      <th>mapid</th>\n",
       "    </tr>\n",
       "  </thead>\n",
       "  <tbody>\n",
       "    <tr>\n",
       "      <th>0</th>\n",
       "      <td>1</td>\n",
       "      <td>31</td>\n",
       "      <td>2.5</td>\n",
       "      <td>1260759144</td>\n",
       "      <td>1</td>\n",
       "    </tr>\n",
       "    <tr>\n",
       "      <th>1</th>\n",
       "      <td>1</td>\n",
       "      <td>1029</td>\n",
       "      <td>3.0</td>\n",
       "      <td>1260759179</td>\n",
       "      <td>2</td>\n",
       "    </tr>\n",
       "    <tr>\n",
       "      <th>2</th>\n",
       "      <td>1</td>\n",
       "      <td>1061</td>\n",
       "      <td>3.0</td>\n",
       "      <td>1260759182</td>\n",
       "      <td>3</td>\n",
       "    </tr>\n",
       "    <tr>\n",
       "      <th>3</th>\n",
       "      <td>1</td>\n",
       "      <td>1129</td>\n",
       "      <td>2.0</td>\n",
       "      <td>1260759185</td>\n",
       "      <td>4</td>\n",
       "    </tr>\n",
       "    <tr>\n",
       "      <th>4</th>\n",
       "      <td>1</td>\n",
       "      <td>1172</td>\n",
       "      <td>4.0</td>\n",
       "      <td>1260759205</td>\n",
       "      <td>5</td>\n",
       "    </tr>\n",
       "  </tbody>\n",
       "</table>\n",
       "</div>"
      ],
      "text/plain": [
       "   userId  movieId  rating   timestamp  mapid\n",
       "0       1       31     2.5  1260759144      1\n",
       "1       1     1029     3.0  1260759179      2\n",
       "2       1     1061     3.0  1260759182      3\n",
       "3       1     1129     2.0  1260759185      4\n",
       "4       1     1172     4.0  1260759205      5"
      ]
     },
     "execution_count": 31,
     "metadata": {},
     "output_type": "execute_result"
    }
   ],
   "source": [
    "movie_map = df_ratings[['movieId']].drop_duplicates().reset_index()\n",
    "MAPID = pd.DataFrame(np.arange(1,n_items+1).reshape(n_items,1),columns=['mapid'])\n",
    "movie_map['mapid'] = MAPID['mapid']\n",
    "movie_map.drop('index',axis=1, inplace=True)\n",
    "df_ratings = pd.merge(df_ratings,movie_map, on = ['movieId'],how = 'left')\n",
    "df_ratings['mapid']=df_ratings['mapid'].astype(int)\n",
    "print(df_ratings.shape)\n",
    "df_ratings.head(5)"
   ]
  },
  {
   "cell_type": "markdown",
   "metadata": {},
   "source": [
    "<a id='3'></a>\n",
    "# 建立二分图"
   ]
  },
  {
   "cell_type": "markdown",
   "metadata": {},
   "source": [
    "什么是图，如图所示，X节点表示用户，Y节点表示商品，连线表示用户购买了商品\n",
    "![image description](https://timgsa.baidu.com/timg?image&quality=80&size=b9999_10000&sec=1519640422699&di=776b7b976f390246ed2b1bca9737aae6&imgtype=0&src=http%3A%2F%2Fimages.cnitblog.com%2Fblog%2F646072%2F201411%2F061225356117547.png)\n",
    "<div> 通过图的推荐最简单的栗子：</div>\n",
    "<div> 用户Jack购买了商品A,B</div>\n",
    "<div>用户Peter购买了商品B,C,D</div>\n",
    "<div>两者都购买了B，我们就向Jack推荐C,D，向Peter推荐A</div>\n",
    "<div>以下实验使用 SNAP 包完成</div>"
   ]
  },
  {
   "cell_type": "markdown",
   "metadata": {},
   "source": [
    "<div>userId和movieId存在相同的情况，snap中的图的结点只能存放整数，因此我们将movieId全部加上1000避免重复</div>\n",
    "<div>同时取出userid，moveid保存到txt，用空格分隔</div>"
   ]
  },
  {
   "cell_type": "code",
   "execution_count": 32,
   "metadata": {},
   "outputs": [
    {
     "data": {
      "text/html": [
       "<div>\n",
       "<style scoped>\n",
       "    .dataframe tbody tr th:only-of-type {\n",
       "        vertical-align: middle;\n",
       "    }\n",
       "\n",
       "    .dataframe tbody tr th {\n",
       "        vertical-align: top;\n",
       "    }\n",
       "\n",
       "    .dataframe thead th {\n",
       "        text-align: right;\n",
       "    }\n",
       "</style>\n",
       "<table border=\"1\" class=\"dataframe\">\n",
       "  <thead>\n",
       "    <tr style=\"text-align: right;\">\n",
       "      <th></th>\n",
       "      <th>userId</th>\n",
       "      <th>movieId</th>\n",
       "      <th>rating</th>\n",
       "      <th>timestamp</th>\n",
       "      <th>mapid</th>\n",
       "    </tr>\n",
       "  </thead>\n",
       "  <tbody>\n",
       "    <tr>\n",
       "      <th>0</th>\n",
       "      <td>1</td>\n",
       "      <td>31</td>\n",
       "      <td>2.5</td>\n",
       "      <td>1260759144</td>\n",
       "      <td>1001</td>\n",
       "    </tr>\n",
       "    <tr>\n",
       "      <th>1</th>\n",
       "      <td>1</td>\n",
       "      <td>1029</td>\n",
       "      <td>3.0</td>\n",
       "      <td>1260759179</td>\n",
       "      <td>1002</td>\n",
       "    </tr>\n",
       "    <tr>\n",
       "      <th>2</th>\n",
       "      <td>1</td>\n",
       "      <td>1061</td>\n",
       "      <td>3.0</td>\n",
       "      <td>1260759182</td>\n",
       "      <td>1003</td>\n",
       "    </tr>\n",
       "    <tr>\n",
       "      <th>3</th>\n",
       "      <td>1</td>\n",
       "      <td>1129</td>\n",
       "      <td>2.0</td>\n",
       "      <td>1260759185</td>\n",
       "      <td>1004</td>\n",
       "    </tr>\n",
       "    <tr>\n",
       "      <th>4</th>\n",
       "      <td>1</td>\n",
       "      <td>1172</td>\n",
       "      <td>4.0</td>\n",
       "      <td>1260759205</td>\n",
       "      <td>1005</td>\n",
       "    </tr>\n",
       "  </tbody>\n",
       "</table>\n",
       "</div>"
      ],
      "text/plain": [
       "   userId  movieId  rating   timestamp  mapid\n",
       "0       1       31     2.5  1260759144   1001\n",
       "1       1     1029     3.0  1260759179   1002\n",
       "2       1     1061     3.0  1260759182   1003\n",
       "3       1     1129     2.0  1260759185   1004\n",
       "4       1     1172     4.0  1260759205   1005"
      ]
     },
     "execution_count": 32,
     "metadata": {},
     "output_type": "execute_result"
    }
   ],
   "source": [
    "#ratings = df_ratings[['userId','movieId']]\n",
    "ratings = df_ratings\n",
    "ratings['mapid'] = ratings['mapid'].apply(lambda x: x+1000)\n",
    "\n",
    "#抽取训练样本,并保存为txt\n",
    "train_ratings = ratings.sample(frac= 0.8)\n",
    "\n",
    "\n",
    "train_ratings.to_csv('train.txt',index = False,sep=' ')\n",
    "ratings.head(5)"
   ]
  },
  {
   "cell_type": "markdown",
   "metadata": {},
   "source": [
    "使用snap读取txt保存到有向图"
   ]
  },
  {
   "cell_type": "code",
   "execution_count": 33,
   "metadata": {},
   "outputs": [],
   "source": [
    "g_ratings = snap.LoadEdgeList(snap.PNGraph,\"train.txt\",0,4)"
   ]
  },
  {
   "cell_type": "markdown",
   "metadata": {},
   "source": [
    "# 绘制出入度分布图（可用gnuplot代替更方便）\n"
   ]
  },
  {
   "cell_type": "code",
   "execution_count": 5,
   "metadata": {},
   "outputs": [],
   "source": [
    "def plotDegDistr(Graph,type='in'):\n",
    "    DegToCntV = snap.TIntPrV()\n",
    "    if(type=='in'): \n",
    "        snap.GetInDegCnt(Graph, DegToCntV)\n",
    "    else:\n",
    "        snap.GetOutDegCnt(Graph,DegToCntV)\n",
    "    x=[]\n",
    "    y=[]\n",
    "    for item in DegToCntV:\n",
    "        x.append(item.GetVal1())\n",
    "        y.append(item.GetVal2())\n",
    "    plt.xscale('log')\n",
    "    plt.yscale('log')\n",
    "    plt.xlabel(type+\"-degree\")\n",
    "    plt.ylabel('count')\n",
    "    plt.grid(True)\n",
    "    plt.plot(x,y,'m.-')"
   ]
  },
  {
   "cell_type": "code",
   "execution_count": 8,
   "metadata": {},
   "outputs": [
    {
     "data": {
      "image/png": "[encoded data removed]",
      "text/plain": [
       "<matplotlib.figure.Figure at 0x11cb7e80>"
      ]
     },
     "metadata": {},
     "output_type": "display_data"
    }
   ],
   "source": [
    "#入度\n",
    "plotDegDistr(g_ratings,'in')"
   ]
  },
  {
   "cell_type": "code",
   "execution_count": 9,
   "metadata": {},
   "outputs": [
    {
     "data": {
      "image/png": "[encoded data removed]",
      "text/plain": [
       "<matplotlib.figure.Figure at 0x11612a90>"
      ]
     },
     "metadata": {},
     "output_type": "display_data"
    }
   ],
   "source": [
    "#出度\n",
    "plotDegDistr(g_ratings,'out')"
   ]
  },
  {
   "cell_type": "markdown",
   "metadata": {},
   "source": [
    "输出图的基本信息 "
   ]
  },
  {
   "cell_type": "code",
   "execution_count": 10,
   "metadata": {},
   "outputs": [
    {
     "name": "stdout",
     "output_type": "stream",
     "text": [
      "Ratings: Directed\n",
      "  Nodes:                    9026\n",
      "  Edges:                    80003\n",
      "  Zero Deg Nodes:           0\n",
      "  Zero InDeg Nodes:         671\n",
      "  Zero OutDeg Nodes:        8355\n",
      "  NonZero In-Out Deg Nodes: 0\n",
      "  Unique directed edges:    80003\n",
      "  Unique undirected edges:  80003\n",
      "  Self Edges:               0\n",
      "  BiDir Edges:              0\n",
      "  Closed triangles:         0\n",
      "  Open triangles:           18236565\n",
      "  Frac. of closed triads:   0.000000\n",
      "  Connected component size: 1.000000\n",
      "  Strong conn. comp. size:  0.000111\n",
      "  Approx. full diameter:    6\n",
      "  90% effective diameter:  3.837432\n",
      "\n"
     ]
    }
   ],
   "source": [
    "snap.PrintInfo(g_ratings, \"Ratings\",'ratings graph info.txt',False)\n",
    "all_the_text = open('ratings graph info.txt').read()\n",
    "print all_the_text"
   ]
  },
  {
   "cell_type": "markdown",
   "metadata": {},
   "source": [
    "<a id='4'></a>\n",
    "# 基于随机游走的 Walk Random 的推荐算法"
   ]
  },
  {
   "cell_type": "markdown",
   "metadata": {},
   "source": [
    "根据论文中的算法1我们构建了基于随机游走推荐系统  \n",
    "https://arxiv.org/pdf/1711.07601.pdf  \n",
    "随机游走的核心思想是从给定的结点出发,根据步长不断随机访问与当前结点相连的结点,并统计各个结点的访问次数,最初推荐访问次数最多的top_k个结点\n",
    "随机游走的整体时间消耗与给定的 总步数 N 成正比"
   ]
  },
  {
   "cell_type": "markdown",
   "metadata": {},
   "source": [
    "一 Given a user, recommend top K items."
   ]
  },
  {
   "cell_type": "code",
   "execution_count": 24,
   "metadata": {},
   "outputs": [],
   "source": [
    "def user_topk_item(input_graph,a,N,input_userid,top_k):\n",
    "    # a determines the length of walks\n",
    "    # N is the total number of steps of the walk\n",
    "    # top_k means how many movies will the system recommend\n",
    "    total_steps = 0\n",
    "    if g_ratings.IsNode(input_userid)==False:\n",
    "        print('user  %d  does not rate please input anothor userid' %userid)\n",
    "    #create a vector to store node visit counts\n",
    "    node_count = np.zeros(input_graph.GetMxNId())\n",
    "    while  total_steps <= N :\n",
    "        cur_steps = random.randint(1,a)\n",
    "        cur_user=input_graph.GetNI(input_userid)\n",
    "        for i in range(0,cur_steps): \n",
    "            itemid = cur_user.GetOutNId(random.randint(0,cur_user.GetOutDeg()-1))\n",
    "            cur_item = input_graph.GetNI(itemid)\n",
    "            userid  = cur_item.GetInNId(random.randint(0,cur_item.GetInDeg()-1))\n",
    "            cur_user=input_graph.GetNI(userid)\n",
    "            node_count[itemid-1] += 1\n",
    "        total_steps += cur_steps\n",
    "    recommend = pd.DataFrame({'mapid':np.arange(1,g_ratings.GetMxNId()+1),'visits':node_count})\n",
    "    recommend = recommend.sort_values(by = 'visits',axis = 0,ascending = False)[0:top_k]\n",
    "    return recommend\n",
    "        "
   ]
  },
  {
   "cell_type": "code",
   "execution_count": 37,
   "metadata": {},
   "outputs": [],
   "source": [
    "def cal_recall(input_recommend,input_userid):\n",
    "    recommend = input_recommend\n",
    "    user_actual = ratings[ratings.userId.values == input_userid]\n",
    "    user_actual = pd.merge(user_actual,recommend,on=['mapid'],how = 'left')\n",
    "    user_actual['ifvisit'] = user_actual.visits.apply(lambda x:1 if x>0  else 0)\n",
    "    recommend_true = float(user_actual.ifvisit.sum())\n",
    "    user_visit_sum  = float(user_actual.shape[0])\n",
    "    recall = recommend_true / user_visit_sum \n",
    "    return recall\n",
    "\n",
    "def cal_precision(input_recommend,input_userid):\n",
    "    recommend = input_recommend\n",
    "    user_actual = ratings[ratings.userId.values == input_userid]\n",
    "    user_precise = pd.merge(recommend,user_actual,on=['mapid'],how = 'left')\n",
    "    user_precise['ifvisit'] = user_precise.rating.apply(lambda x:1 if x>0  else 0)\n",
    "    recommend_true = float(user_precise.ifvisit.sum())\n",
    "    user_visit_sum  = float(user_precise.shape[0])\n",
    "    recall = recommend_true / user_visit_sum \n",
    "    return recall\n",
    "    \n",
    "    "
   ]
  },
  {
   "cell_type": "code",
   "execution_count": 35,
   "metadata": {},
   "outputs": [
    {
     "name": "stdout",
     "output_type": "stream",
     "text": [
      "the recall of user 1 is 0.800000\n",
      "recommend movies is below\n"
     ]
    },
    {
     "data": {
      "text/html": [
       "<div>\n",
       "<style scoped>\n",
       "    .dataframe tbody tr th:only-of-type {\n",
       "        vertical-align: middle;\n",
       "    }\n",
       "\n",
       "    .dataframe tbody tr th {\n",
       "        vertical-align: top;\n",
       "    }\n",
       "\n",
       "    .dataframe thead th {\n",
       "        text-align: right;\n",
       "    }\n",
       "</style>\n",
       "<table border=\"1\" class=\"dataframe\">\n",
       "  <thead>\n",
       "    <tr style=\"text-align: right;\">\n",
       "      <th></th>\n",
       "      <th>mapid</th>\n",
       "      <th>visits</th>\n",
       "    </tr>\n",
       "  </thead>\n",
       "  <tbody>\n",
       "    <tr>\n",
       "      <th>1011</th>\n",
       "      <td>1012</td>\n",
       "      <td>357.0</td>\n",
       "    </tr>\n",
       "    <tr>\n",
       "      <th>1019</th>\n",
       "      <td>1020</td>\n",
       "      <td>345.0</td>\n",
       "    </tr>\n",
       "    <tr>\n",
       "      <th>1000</th>\n",
       "      <td>1001</td>\n",
       "      <td>336.0</td>\n",
       "    </tr>\n",
       "    <tr>\n",
       "      <th>1012</th>\n",
       "      <td>1013</td>\n",
       "      <td>331.0</td>\n",
       "    </tr>\n",
       "    <tr>\n",
       "      <th>1004</th>\n",
       "      <td>1005</td>\n",
       "      <td>330.0</td>\n",
       "    </tr>\n",
       "  </tbody>\n",
       "</table>\n",
       "</div>"
      ],
      "text/plain": [
       "      mapid  visits\n",
       "1011   1012   357.0\n",
       "1019   1020   345.0\n",
       "1000   1001   336.0\n",
       "1012   1013   331.0\n",
       "1004   1005   330.0"
      ]
     },
     "execution_count": 35,
     "metadata": {},
     "output_type": "execute_result"
    }
   ],
   "source": [
    "test_userid  = 1\n",
    "result = user_topk_item(g_ratings,3,10000,test_userid,25)\n",
    "recall = cal_recall(result,test_userid)\n",
    "print 'the recall of user %d is %f' %(test_userid,recall)\n",
    "print 'recommend movies is below'\n",
    "result.head()\n"
   ]
  },
  {
   "cell_type": "code",
   "execution_count": 39,
   "metadata": {},
   "outputs": [
    {
     "name": "stdout",
     "output_type": "stream",
     "text": [
      "precision is below\n"
     ]
    },
    {
     "data": {
      "text/plain": [
       "0.64"
      ]
     },
     "execution_count": 39,
     "metadata": {},
     "output_type": "execute_result"
    }
   ],
   "source": [
    "precision = cal_precision(result,test_userid)\n",
    "print 'precision is below'\n",
    "precision"
   ]
  },
  {
   "cell_type": "code",
   "execution_count": 40,
   "metadata": {},
   "outputs": [
    {
     "name": "stdout",
     "output_type": "stream",
     "text": [
      "10 loops, best of 3: 70.3 ms per loop\n"
     ]
    }
   ],
   "source": [
    "%%timeit\n",
    "time_test = user_topk_item(g_ratings ,3,10000,test_userid,25)"
   ]
  },
  {
   "cell_type": "markdown",
   "metadata": {},
   "source": [
    "接下来测试总体的平均recall"
   ]
  },
  {
   "cell_type": "code",
   "execution_count": 41,
   "metadata": {},
   "outputs": [
    {
     "data": {
      "text/plain": [
       "0.40571119493262325"
      ]
     },
     "execution_count": 41,
     "metadata": {},
     "output_type": "execute_result"
    }
   ],
   "source": [
    "recall_list = []\n",
    "for i in range(1,1001):\n",
    "    userid = i\n",
    "    if  g_ratings.IsNode(userid):\n",
    "        recommend = user_topk_item(g_ratings ,6,10000,userid,25)\n",
    "        recall_list.append(cal_recall(recommend,userid))\n",
    "np.mean(recall_list)"
   ]
  },
  {
   "cell_type": "markdown",
   "metadata": {},
   "source": [
    "## 一 Given a user, recommend top K users."
   ]
  },
  {
   "cell_type": "code",
   "execution_count": 46,
   "metadata": {},
   "outputs": [],
   "source": [
    "def user_topk_user(input_graph,a,N,input_userid,top_k):\n",
    "    # a determines the length of walks\n",
    "    # N is the total number of steps of the walk\n",
    "    # top_k means how many users will the system recommend\n",
    "    total_steps = 0\n",
    "    if g_ratings.IsNode(input_userid)==False:\n",
    "        print('user  %d  does not rate please input anothor userid' %userid)\n",
    "    node_count = np.zeros(input_graph.GetMxNId())     #create a vector to store node visit counts\n",
    "    while  total_steps <= N :\n",
    "        cur_steps = random.randint(0,a) #get step length\n",
    "        cur_user=input_graph.GetNI(input_userid) #get user node\n",
    "        for i in range(0,cur_steps):\n",
    "            itemid = cur_user.GetOutNId(random.randint(0,cur_user.GetOutDeg()-1)) #get item node id\n",
    "            #print 'itemid %d' %itemid\n",
    "            cur_item = input_graph.GetNI(itemid) #get item node\n",
    "            userid  = cur_item.GetInNId(random.randint(0,cur_item.GetInDeg()-1))\n",
    "            #print 'userid %d' %userid\n",
    "            cur_user=input_graph.GetNI(userid)\n",
    "            node_count[userid-1] += 1 # add the visit counts of node \n",
    "        total_steps += cur_steps\n",
    "    recommend = pd.DataFrame({'userId':np.arange(1,g_ratings.GetMxNId()+1),'visits':node_count})\n",
    "    recommend = recommend.sort_values(by = 'visits',axis = 0,ascending = False)[0:top_k]\n",
    "    return recommend"
   ]
  },
  {
   "cell_type": "code",
   "execution_count": 47,
   "metadata": {},
   "outputs": [
    {
     "name": "stdout",
     "output_type": "stream",
     "text": [
      "recommend user lists is below\n"
     ]
    },
    {
     "data": {
      "text/html": [
       "<div>\n",
       "<style scoped>\n",
       "    .dataframe tbody tr th:only-of-type {\n",
       "        vertical-align: middle;\n",
       "    }\n",
       "\n",
       "    .dataframe tbody tr th {\n",
       "        vertical-align: top;\n",
       "    }\n",
       "\n",
       "    .dataframe thead th {\n",
       "        text-align: right;\n",
       "    }\n",
       "</style>\n",
       "<table border=\"1\" class=\"dataframe\">\n",
       "  <thead>\n",
       "    <tr style=\"text-align: right;\">\n",
       "      <th></th>\n",
       "      <th>userId</th>\n",
       "      <th>visits</th>\n",
       "    </tr>\n",
       "  </thead>\n",
       "  <tbody>\n",
       "    <tr>\n",
       "      <th>72</th>\n",
       "      <td>73</td>\n",
       "      <td>219.0</td>\n",
       "    </tr>\n",
       "    <tr>\n",
       "      <th>546</th>\n",
       "      <td>547</td>\n",
       "      <td>181.0</td>\n",
       "    </tr>\n",
       "    <tr>\n",
       "      <th>467</th>\n",
       "      <td>468</td>\n",
       "      <td>163.0</td>\n",
       "    </tr>\n",
       "    <tr>\n",
       "      <th>563</th>\n",
       "      <td>564</td>\n",
       "      <td>163.0</td>\n",
       "    </tr>\n",
       "    <tr>\n",
       "      <th>14</th>\n",
       "      <td>15</td>\n",
       "      <td>160.0</td>\n",
       "    </tr>\n",
       "  </tbody>\n",
       "</table>\n",
       "</div>"
      ],
      "text/plain": [
       "     userId  visits\n",
       "72       73   219.0\n",
       "546     547   181.0\n",
       "467     468   163.0\n",
       "563     564   163.0\n",
       "14       15   160.0"
      ]
     },
     "execution_count": 47,
     "metadata": {},
     "output_type": "execute_result"
    }
   ],
   "source": [
    "#test\n",
    "test_userid = 1 \n",
    "result = user_topk_user(g_ratings ,5,10000,test_userid,25)\n",
    "print 'recommend user lists is below'\n",
    "result.head()"
   ]
  },
  {
   "cell_type": "markdown",
   "metadata": {},
   "source": [
    "## 一 Given a item recommend top K items."
   ]
  },
  {
   "cell_type": "code",
   "execution_count": 48,
   "metadata": {},
   "outputs": [],
   "source": [
    "def item_topk_item(input_graph,a,N,input_itemid,top_k):\n",
    "    # a determines the length of walks\n",
    "    # N is the total number of steps of the walk\n",
    "    # top_k means how many users will the system recommend\n",
    "    total_steps = 0\n",
    "    if g_ratings.IsNode(input_itemid)==False:\n",
    "        print('no one watches movie %d  please input anothor movieid' %itemid)\n",
    "    #create a vector to store node visit counts\n",
    "    node_count = np.zeros(input_graph.GetMxNId())\n",
    "    while  total_steps <= N :\n",
    "        cur_steps = random.randint(0,a)\n",
    "        cur_item=input_graph.GetNI(input_itemid)\n",
    "        for i in range(0,cur_steps):\n",
    "            userid  = cur_item.GetInNId(random.randint(0,cur_item.GetInDeg()-1))\n",
    "            #print 'userid %d' %userid\n",
    "            cur_user=input_graph.GetNI(userid)\n",
    "            itemid = cur_user.GetOutNId(random.randint(0,cur_user.GetOutDeg()-1))\n",
    "            #print 'itemid %d' %itemid\n",
    "            cur_item = input_graph.GetNI(itemid)\n",
    "            node_count[itemid-1] += 1\n",
    "        total_steps += cur_steps\n",
    "    recommend = pd.DataFrame({'itemId':np.arange(1,g_ratings.GetMxNId()+1),'visits':node_count})\n",
    "    recommend = recommend.sort_values(by = 'visits',axis = 0,ascending = False)[0:top_k]\n",
    "    return recommend"
   ]
  },
  {
   "cell_type": "code",
   "execution_count": 49,
   "metadata": {},
   "outputs": [
    {
     "name": "stdout",
     "output_type": "stream",
     "text": [
      "movies similar with movie 1001 is below\n"
     ]
    },
    {
     "data": {
      "text/html": [
       "<div>\n",
       "<style scoped>\n",
       "    .dataframe tbody tr th:only-of-type {\n",
       "        vertical-align: middle;\n",
       "    }\n",
       "\n",
       "    .dataframe tbody tr th {\n",
       "        vertical-align: top;\n",
       "    }\n",
       "\n",
       "    .dataframe thead th {\n",
       "        text-align: right;\n",
       "    }\n",
       "</style>\n",
       "<table border=\"1\" class=\"dataframe\">\n",
       "  <thead>\n",
       "    <tr style=\"text-align: right;\">\n",
       "      <th></th>\n",
       "      <th>itemId</th>\n",
       "      <th>visits</th>\n",
       "    </tr>\n",
       "  </thead>\n",
       "  <tbody>\n",
       "    <tr>\n",
       "      <th>1000</th>\n",
       "      <td>1001</td>\n",
       "      <td>70.0</td>\n",
       "    </tr>\n",
       "    <tr>\n",
       "      <th>1088</th>\n",
       "      <td>1089</td>\n",
       "      <td>50.0</td>\n",
       "    </tr>\n",
       "    <tr>\n",
       "      <th>1099</th>\n",
       "      <td>1100</td>\n",
       "      <td>49.0</td>\n",
       "    </tr>\n",
       "    <tr>\n",
       "      <th>1092</th>\n",
       "      <td>1093</td>\n",
       "      <td>49.0</td>\n",
       "    </tr>\n",
       "    <tr>\n",
       "      <th>1027</th>\n",
       "      <td>1028</td>\n",
       "      <td>46.0</td>\n",
       "    </tr>\n",
       "  </tbody>\n",
       "</table>\n",
       "</div>"
      ],
      "text/plain": [
       "      itemId  visits\n",
       "1000    1001    70.0\n",
       "1088    1089    50.0\n",
       "1099    1100    49.0\n",
       "1092    1093    49.0\n",
       "1027    1028    46.0"
      ]
     },
     "execution_count": 49,
     "metadata": {},
     "output_type": "execute_result"
    }
   ],
   "source": [
    "#test\n",
    "itemid  = 1001\n",
    "result = item_topk_item(g_ratings ,5,10000,itemid,25)\n",
    "print 'movies similar with movie %d is below' %itemid\n",
    "result.head()"
   ]
  },
  {
   "cell_type": "markdown",
   "metadata": {},
   "source": [
    "<a id='5'></a>\n",
    "# 参数分析"
   ]
  },
  {
   "cell_type": "markdown",
   "metadata": {},
   "source": [
    "<div>在基于图的推荐中,参数a决定了每次随机游走,结点所覆盖的广度,暂时推断a越大,覆盖的节点一搬会更多</div>\n",
    "<div>接下来我们看一下在Given a user, recommend top K items中,取不同大小的a,对最终的总体recall有什么影响</div>"
   ]
  },
  {
   "cell_type": "code",
   "execution_count": 52,
   "metadata": {},
   "outputs": [],
   "source": [
    "a_list = []\n",
    "all_recall_list = []\n",
    "all_precision_list = []\n",
    "for a in range(1,21):\n",
    "    a_list.append(a)\n",
    "    recall_list = []\n",
    "    precision_list =[]\n",
    "    for i in range(1,1001):\n",
    "        userid = i\n",
    "        if  g_ratings.IsNode(userid):\n",
    "            recommend = user_topk_item(g_ratings ,a,10000,userid,25)\n",
    "            recall_list.append(cal_recall(recommend,userid))\n",
    "            precision_list.append(cal_precision(recommend,userid))\n",
    "    all_recall_list.append(np.mean(recall_list))\n",
    "    all_precision_list.append(np.mean(precision_list))"
   ]
  },
  {
   "cell_type": "code",
   "execution_count": 53,
   "metadata": {},
   "outputs": [
    {
     "data": {
      "text/plain": [
       "Text(0,0.5,u'Y values for precision')"
      ]
     },
     "execution_count": 53,
     "metadata": {},
     "output_type": "execute_result"
    },
    {
     "data": {
      "image/png": "[encoded data removed]",
      "text/plain": [
       "<matplotlib.figure.Figure at 0x117b3550>"
      ]
     },
     "metadata": {},
     "output_type": "display_data"
    }
   ],
   "source": [
    "\n",
    "\n",
    "fig = plt.figure()\n",
    "ax1 = fig.add_subplot(111)\n",
    "ax1.plot(a_list, all_recall_list)\n",
    "ax1.set_ylabel('Y values for recall')\n",
    "ax1.set_xlabel(\"each step length a\")\n",
    "\n",
    "ax2 = ax1.twinx()  # this is the important function\n",
    "ax2.plot(a_list, all_precision_list, 'r')\n",
    "ax2.set_ylabel('Y values for precision')"
   ]
  },
  {
   "cell_type": "markdown",
   "metadata": {},
   "source": [
    "如图所示我们发现,随着a的不断增大,recall和precision会不断减小，所以这里a设为2左右比较好"
   ]
  },
  {
   "cell_type": "markdown",
   "metadata": {},
   "source": [
    "# 推荐不同top_k部电影时的recall和precision比较"
   ]
  },
  {
   "cell_type": "code",
   "execution_count": 54,
   "metadata": {},
   "outputs": [],
   "source": [
    "topk_list = []\n",
    "all_recall_list = []\n",
    "all_precision_list = []\n",
    "for top_k in range(5,100,5):\n",
    "    topk_list.append(top_k)\n",
    "    recall_list = []\n",
    "    precision_list = []\n",
    "    for i in range(1,1001):\n",
    "        userid = i\n",
    "        if  g_ratings.IsNode(userid):\n",
    "            recommend = user_topk_item(g_ratings ,5,10000,userid,top_k)\n",
    "            recall_list.append(cal_recall(recommend,userid))\n",
    "            precision_list.append(cal_precision(recommend,userid))\n",
    "    all_recall_list.append(np.mean(recall_list))\n",
    "    all_precision_list.append(np.mean(precision_list))"
   ]
  },
  {
   "cell_type": "code",
   "execution_count": 55,
   "metadata": {},
   "outputs": [
    {
     "data": {
      "text/plain": [
       "Text(0,0.5,u'Y values for precision')"
      ]
     },
     "execution_count": 55,
     "metadata": {},
     "output_type": "execute_result"
    },
    {
     "data": {
      "image/png": "[encoded data removed]",
      "text/plain": [
       "<matplotlib.figure.Figure at 0xccef9e8>"
      ]
     },
     "metadata": {},
     "output_type": "display_data"
    }
   ],
   "source": [
    "fig = plt.figure()\n",
    "ax1 = fig.add_subplot(111)\n",
    "ax1.plot(topk_list, all_recall_list)\n",
    "ax1.set_ylabel('Y values for recall')\n",
    "ax1.set_xlabel(\"top_k\")\n",
    "\n",
    "ax2 = ax1.twinx()  # this is the important function\n",
    "ax2.plot(topk_list, all_precision_list, 'r')\n",
    "ax2.set_ylabel('Y values for precision')\n"
   ]
  },
  {
   "cell_type": "markdown",
   "metadata": {},
   "source": [
    "我们发现,recall 和precision 两条线在top_k = 40的时候相交,因此我们将topk_设为40 是比较折中的"
   ]
  },
  {
   "cell_type": "markdown",
   "metadata": {},
   "source": [
    "# <a id='6'></a>\n",
    "# 使用加权的图进行推荐"
   ]
  },
  {
   "cell_type": "markdown",
   "metadata": {},
   "source": [
    "<div>由于每个用户对不同电影的评分不同,因此在随机游走的时候我们认为评价更高的边具有更高的权重,更容易成为游走的路径</div>\n",
    "<div>同时,我们推测,在加入权重的影响因素后,可以降低在 a 过大 时导致随机游走过于偏远而引起的 recall快速下降的问题</div>\n",
    "<div>在不考虑权重的情况下,更类似与广度搜索,在考虑权重的情况下,更类似于深度搜索</div>"
   ]
  },
  {
   "cell_type": "code",
   "execution_count": 56,
   "metadata": {},
   "outputs": [
    {
     "data": {
      "text/plain": [
       "0"
      ]
     },
     "execution_count": 56,
     "metadata": {},
     "output_type": "execute_result"
    }
   ],
   "source": [
    "net_ratings = snap.TNEANet.New()  #生成一个新的网络图,可以存放边的信息\n",
    "net_ratings.AddFltAttrE('rating') #为网络图的边增加一个叫 rating 的属性"
   ]
  },
  {
   "cell_type": "code",
   "execution_count": 66,
   "metadata": {},
   "outputs": [],
   "source": [
    "#为网络图生成用户和电影的结点\n",
    "#为网络图添加用户和电影的边,并给每条边添加对应的评级信息\n",
    "for row in train_ratings.itertuples():\n",
    "    userid =row[1]\n",
    "    movieid = row[5]\n",
    "    rating = row[3]\n",
    "    if net_ratings.IsNode(userid)==False:\n",
    "        net_ratings.AddNode(userid)\n",
    "    if net_ratings.IsNode(movieid)==False:\n",
    "        net_ratings.AddNode(movieid)\n",
    "    edgeid = net_ratings.AddEdge(userid,  movieid)\n",
    "    net_ratings.AddFltAttrDatE(edgeid,rating,'rating')"
   ]
  },
  {
   "cell_type": "code",
   "execution_count": 67,
   "metadata": {},
   "outputs": [
    {
     "name": "stdout",
     "output_type": "stream",
     "text": [
      "Ratings: Directed Multigraph\n",
      "  Nodes:                    12530\n",
      "  Edges:                    160006\n",
      "  Zero Deg Nodes:           0\n",
      "  Zero InDeg Nodes:         103\n",
      "  Zero OutDeg Nodes:        11859\n",
      "  NonZero In-Out Deg Nodes: 568\n",
      "  Unique directed edges:    155536\n",
      "  Unique undirected edges:  155191\n",
      "  Self Edges:               23\n",
      "  BiDir Edges:              713\n",
      "  Closed triangles:         6192\n",
      "  Open triangles:           73344691\n",
      "  Frac. of closed triads:   0.000084\n",
      "  Connected component size: 1.000000\n",
      "  Strong conn. comp. size:  0.043496\n",
      "  Approx. full diameter:    5\n",
      "  90% effective diameter:  3.615664\n",
      "\n"
     ]
    }
   ],
   "source": [
    "#输出网络图的信息\n",
    "snap.PrintInfo(net_ratings, \"Ratings\",'ratings net info.txt',False)\n",
    "all_the_text = open('ratings net info.txt').read()\n",
    "print all_the_text"
   ]
  },
  {
   "cell_type": "code",
   "execution_count": 68,
   "metadata": {},
   "outputs": [],
   "source": [
    "#保存网络图\n",
    "FOut = snap.TFOut(\"net_ratings.graph\")\n",
    "net_ratings.Save(FOut)\n",
    "FOut.Flush()\n"
   ]
  },
  {
   "cell_type": "code",
   "execution_count": 69,
   "metadata": {},
   "outputs": [],
   "source": [
    "#读取网络图\n",
    "FIn = snap.TFIn(\"net_ratings.graph\") \n",
    "net_ratings = snap.TNEANet.Load(FIn) \n",
    "    \n"
   ]
  },
  {
   "cell_type": "code",
   "execution_count": 70,
   "metadata": {},
   "outputs": [],
   "source": [
    "def weighted_user_topk_item(input_graph,a,N,input_userid,top_k):\n",
    "    # a determines the length of walks\n",
    "    # N is the total number of steps of the walk\n",
    "    # top_k means how many movies will the system recommend\n",
    "    \n",
    "    def weighted_random_walk(node,in_out): #根据权重选择路径,返回的值为选择第几条路径\n",
    "        walk_area = 0\n",
    "        which_way = 0\n",
    "        if in_out == 'out':\n",
    "            for j in range(0,node.GetOutDeg()):\n",
    "                edgeid = input_graph.GetEI(node.GetId(),node.GetOutNId(j))\n",
    "                walk_area += input_graph.GetFltAttrDatE(edgeid, 'rating')\n",
    "            p = random.randint(0,math.floor(walk_area))\n",
    "            for q in range(0,node.GetOutDeg()-1):\n",
    "                edgeid = input_graph.GetEI(node.GetId(),node.GetOutNId(q))\n",
    "                p = p - input_graph.GetFltAttrDatE(edgeid, 'rating')\n",
    "                if p<=0:\n",
    "                    which_way = q\n",
    "                    break\n",
    "\n",
    "        else:\n",
    "            for j in range(0,node.GetInDeg()):\n",
    "                edgeid = input_graph.GetEI(node.GetInNId(j),node.GetId())\n",
    "                walk_area += input_graph.GetFltAttrDatE(edgeid, 'rating')\n",
    "            p = random.randint(0,math.floor(walk_area))\n",
    "            for q in range(0,node.GetInDeg()-1):\n",
    "                edgeid = input_graph.GetEI(node.GetInNId(q),node.GetId())\n",
    "                p = p - input_graph.GetFltAttrDatE(edgeid, 'rating')\n",
    "                if p<= 0:\n",
    "                    which_way = q\n",
    "                    break\n",
    "        return which_way\n",
    "\n",
    "\n",
    "    total_steps = 0\n",
    "    if input_graph.IsNode(input_userid)==False:\n",
    "        print('user  %d  does not rate please input anothor userid' %input_userid)\n",
    "    #create a vector to store node visit counts\n",
    "    node_count = np.zeros(input_graph.GetMxNId())\n",
    "    while  total_steps <= N :\n",
    "        cur_steps = random.randint(1,a)\n",
    "        cur_user=input_graph.GetNI(input_userid)\n",
    "        for i in range(0,cur_steps): \n",
    "            itemid = cur_user.GetOutNId(weighted_random_walk(cur_user,'out'))\n",
    "            #print 'itemid %d' %itemid\n",
    "            cur_item = input_graph.GetNI(itemid)\n",
    "            userid  = cur_item.GetInNId(weighted_random_walk(cur_item,'in'))\n",
    "            #print 'userid %d' %userid\n",
    "            cur_user=input_graph.GetNI(userid)\n",
    "            node_count[itemid-1] += 1\n",
    "        total_steps += cur_steps\n",
    "    recommend = pd.DataFrame({'mapid':np.arange(1,net_ratings.GetMxNId()+1),'visits':node_count})\n",
    "    recommend = recommend.sort_values( by = 'visits',axis = 0,ascending = False)[0:top_k]\n",
    "    return recommend"
   ]
  },
  {
   "cell_type": "code",
   "execution_count": 71,
   "metadata": {},
   "outputs": [
    {
     "name": "stdout",
     "output_type": "stream",
     "text": [
      "the recall of user 1 is 0.650000\n",
      "recommend movies is below\n"
     ]
    },
    {
     "data": {
      "text/html": [
       "<div>\n",
       "<style scoped>\n",
       "    .dataframe tbody tr th:only-of-type {\n",
       "        vertical-align: middle;\n",
       "    }\n",
       "\n",
       "    .dataframe tbody tr th {\n",
       "        vertical-align: top;\n",
       "    }\n",
       "\n",
       "    .dataframe thead th {\n",
       "        text-align: right;\n",
       "    }\n",
       "</style>\n",
       "<table border=\"1\" class=\"dataframe\">\n",
       "  <thead>\n",
       "    <tr style=\"text-align: right;\">\n",
       "      <th></th>\n",
       "      <th>mapid</th>\n",
       "      <th>visits</th>\n",
       "    </tr>\n",
       "  </thead>\n",
       "  <tbody>\n",
       "    <tr>\n",
       "      <th>3670</th>\n",
       "      <td>3671</td>\n",
       "      <td>21.0</td>\n",
       "    </tr>\n",
       "    <tr>\n",
       "      <th>1012</th>\n",
       "      <td>1013</td>\n",
       "      <td>20.0</td>\n",
       "    </tr>\n",
       "    <tr>\n",
       "      <th>1171</th>\n",
       "      <td>1172</td>\n",
       "      <td>20.0</td>\n",
       "    </tr>\n",
       "    <tr>\n",
       "      <th>2293</th>\n",
       "      <td>2294</td>\n",
       "      <td>18.0</td>\n",
       "    </tr>\n",
       "    <tr>\n",
       "      <th>1952</th>\n",
       "      <td>1953</td>\n",
       "      <td>17.0</td>\n",
       "    </tr>\n",
       "  </tbody>\n",
       "</table>\n",
       "</div>"
      ],
      "text/plain": [
       "      mapid  visits\n",
       "3670   3671    21.0\n",
       "1012   1013    20.0\n",
       "1171   1172    20.0\n",
       "2293   2294    18.0\n",
       "1952   1953    17.0"
      ]
     },
     "execution_count": 71,
     "metadata": {},
     "output_type": "execute_result"
    }
   ],
   "source": [
    "test_userid = 1\n",
    "aaa = weighted_user_topk_item(net_ratings,6,1000,test_userid,25)\n",
    "recall = cal_recall(aaa,test_userid)\n",
    "print 'the recall of user %d is %f' %(test_userid,recall)\n",
    "print 'recommend movies is below'\n",
    "aaa.head()\n"
   ]
  },
  {
   "cell_type": "markdown",
   "metadata": {},
   "source": [
    "在加权的随机游走上面,按权重选择路径的算法的过于复杂,导致时间增加了很多,应该有更好的方法按权重选择路径.\n",
    "从测试用户 1来看, 加权的随机游走 recall为 比非加权的性能要好"
   ]
  },
  {
   "cell_type": "code",
   "execution_count": null,
   "metadata": {},
   "outputs": [],
   "source": []
  }
 ],
 "metadata": {
  "kernelspec": {
   "display_name": "Python 2",
   "language": "python",
   "name": "python2"
  },
  "language_info": {
   "codemirror_mode": {
    "name": "ipython",
    "version": 2
   },
   "file_extension": ".py",
   "mimetype": "text/x-python",
   "name": "python",
   "nbconvert_exporter": "python",
   "pygments_lexer": "ipython2",
   "version": "2.7.14"
  }
 },
 "nbformat": 4,
 "nbformat_minor": 2
}
